{
 "cells": [
  {
   "cell_type": "code",
   "execution_count": 1,
   "id": "cd2aa710",
   "metadata": {},
   "outputs": [],
   "source": [
    "# body mass index(BMI)\n",
    "# input weight\n",
    "# height\n",
    "# BMI(By Yourself)\n",
    "#weight\n",
    "#calculate bmi\n",
    "#print bmi (my name is--- , my bmi is---)"
   ]
  },
  {
   "cell_type": "code",
   "execution_count": 2,
   "id": "d58522d6",
   "metadata": {
    "scrolled": true
   },
   "outputs": [],
   "source": [
    "#my name is Arbaz\n",
    "\n",
    "# weight=(60)\n",
    "# height=(1.67)\n",
    "\n",
    "# BMI = weight/(height)**2\n",
    "# BMI"
   ]
  },
  {
   "cell_type": "code",
   "execution_count": null,
   "id": "ce1c97aa",
   "metadata": {
    "scrolled": true
   },
   "outputs": [],
   "source": [
    "height = input(\"what is your height? \")"
   ]
  },
  {
   "cell_type": "code",
   "execution_count": null,
   "id": "81107390",
   "metadata": {},
   "outputs": [],
   "source": [
    "weight = input(\"what is your weight? \") "
   ]
  },
  {
   "cell_type": "code",
   "execution_count": null,
   "id": "ad6881cd",
   "metadata": {},
   "outputs": [],
   "source": [
    "height = input(\"what is your height? \")"
   ]
  },
  {
   "cell_type": "code",
   "execution_count": null,
   "id": "cf58b2e7",
   "metadata": {},
   "outputs": [],
   "source": [
    "name = input(\"what is your name? \")"
   ]
  },
  {
   "cell_type": "code",
   "execution_count": null,
   "id": "baa8e341",
   "metadata": {},
   "outputs": [],
   "source": [
    "BMI = weight/height**2"
   ]
  },
  {
   "cell_type": "code",
   "execution_count": null,
   "id": "69ed75f1",
   "metadata": {},
   "outputs": [],
   "source": [
    "print(\"my name is\" ,name , \"my BMI is\", BMI )"
   ]
  }
 ],
 "metadata": {
  "kernelspec": {
   "display_name": "Python 3 (ipykernel)",
   "language": "python",
   "name": "python3"
  },
  "language_info": {
   "codemirror_mode": {
    "name": "ipython",
    "version": 3
   },
   "file_extension": ".py",
   "mimetype": "text/x-python",
   "name": "python",
   "nbconvert_exporter": "python",
   "pygments_lexer": "ipython3",
   "version": "3.9.12"
  }
 },
 "nbformat": 4,
 "nbformat_minor": 5
}
