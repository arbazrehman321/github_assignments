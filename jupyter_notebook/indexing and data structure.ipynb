{
 "cells": [
  {
   "cell_type": "markdown",
   "id": "82f42f29",
   "metadata": {},
   "source": [
    "# indexing"
   ]
  },
  {
   "cell_type": "code",
   "execution_count": 1,
   "id": "4a8a3a56",
   "metadata": {},
   "outputs": [
    {
     "data": {
      "text/plain": [
       "'samosa pakora'"
      ]
     },
     "execution_count": 1,
     "metadata": {},
     "output_type": "execute_result"
    }
   ],
   "source": [
    "# make a string\n",
    "a= \"samosa pakora\"\n",
    "a"
   ]
  },
  {
   "cell_type": "code",
   "execution_count": 2,
   "id": "f2167f9f",
   "metadata": {},
   "outputs": [
    {
     "data": {
      "text/plain": [
       "'s'"
      ]
     },
     "execution_count": 2,
     "metadata": {},
     "output_type": "execute_result"
    }
   ],
   "source": [
    "a[0]"
   ]
  },
  {
   "cell_type": "code",
   "execution_count": 3,
   "id": "3cb1b789",
   "metadata": {},
   "outputs": [
    {
     "data": {
      "text/plain": [
       "'a'"
      ]
     },
     "execution_count": 3,
     "metadata": {},
     "output_type": "execute_result"
    }
   ],
   "source": [
    "a[1]"
   ]
  },
  {
   "cell_type": "code",
   "execution_count": 4,
   "id": "c9790023",
   "metadata": {},
   "outputs": [
    {
     "data": {
      "text/plain": [
       "13"
      ]
     },
     "execution_count": 4,
     "metadata": {},
     "output_type": "execute_result"
    }
   ],
   "source": [
    "#length of indeces\n",
    "len(a)"
   ]
  },
  {
   "cell_type": "code",
   "execution_count": 5,
   "id": "2347916e",
   "metadata": {},
   "outputs": [
    {
     "data": {
      "text/plain": [
       "'samos'"
      ]
     },
     "execution_count": 5,
     "metadata": {},
     "output_type": "execute_result"
    }
   ],
   "source": [
    "#lasst index is exclusive\n",
    "a[0:5]"
   ]
  },
  {
   "cell_type": "code",
   "execution_count": 6,
   "id": "73636dbd",
   "metadata": {},
   "outputs": [
    {
     "data": {
      "text/plain": [
       "'samosa'"
      ]
     },
     "execution_count": 6,
     "metadata": {},
     "output_type": "execute_result"
    }
   ],
   "source": [
    "a[0:6]"
   ]
  },
  {
   "cell_type": "code",
   "execution_count": 7,
   "id": "6fbed10f",
   "metadata": {},
   "outputs": [
    {
     "data": {
      "text/plain": [
       "'a'"
      ]
     },
     "execution_count": 7,
     "metadata": {},
     "output_type": "execute_result"
    }
   ],
   "source": [
    "a[-1]"
   ]
  },
  {
   "cell_type": "code",
   "execution_count": 8,
   "id": "b3c629df",
   "metadata": {},
   "outputs": [
    {
     "data": {
      "text/plain": [
       "'r'"
      ]
     },
     "execution_count": 8,
     "metadata": {},
     "output_type": "execute_result"
    }
   ],
   "source": [
    "a[-2]"
   ]
  },
  {
   "cell_type": "code",
   "execution_count": 11,
   "id": "21ce5577",
   "metadata": {},
   "outputs": [
    {
     "data": {
      "text/plain": [
       "'biryani'"
      ]
     },
     "execution_count": 11,
     "metadata": {},
     "output_type": "execute_result"
    }
   ],
   "source": [
    "food = \"biryani\"\n",
    "food"
   ]
  },
  {
   "cell_type": "markdown",
   "id": "6935b6ec",
   "metadata": {},
   "source": [
    "## string methods"
   ]
  },
  {
   "cell_type": "code",
   "execution_count": 12,
   "id": "464af6f9",
   "metadata": {},
   "outputs": [
    {
     "data": {
      "text/plain": [
       "'biryani'"
      ]
     },
     "execution_count": 12,
     "metadata": {},
     "output_type": "execute_result"
    }
   ],
   "source": [
    "food"
   ]
  },
  {
   "cell_type": "code",
   "execution_count": 13,
   "id": "4d136c43",
   "metadata": {},
   "outputs": [
    {
     "data": {
      "text/plain": [
       "7"
      ]
     },
     "execution_count": 13,
     "metadata": {},
     "output_type": "execute_result"
    }
   ],
   "source": [
    "len (food)\n"
   ]
  },
  {
   "cell_type": "code",
   "execution_count": 14,
   "id": "4f24c632",
   "metadata": {},
   "outputs": [
    {
     "data": {
      "text/plain": [
       "'Biryani'"
      ]
     },
     "execution_count": 14,
     "metadata": {},
     "output_type": "execute_result"
    }
   ],
   "source": [
    "#capitalize every word\n",
    "food.capitalize()"
   ]
  },
  {
   "cell_type": "code",
   "execution_count": 15,
   "id": "c73e56b4",
   "metadata": {},
   "outputs": [
    {
     "data": {
      "text/plain": [
       "'BIRYANI'"
      ]
     },
     "execution_count": 15,
     "metadata": {},
     "output_type": "execute_result"
    }
   ],
   "source": [
    "#upper case letters\n",
    "food.upper()"
   ]
  },
  {
   "cell_type": "code",
   "execution_count": 16,
   "id": "3cb6ee73",
   "metadata": {},
   "outputs": [
    {
     "data": {
      "text/plain": [
       "'biryani'"
      ]
     },
     "execution_count": 16,
     "metadata": {},
     "output_type": "execute_result"
    }
   ],
   "source": [
    "#lower case letters\n",
    "food.lower()"
   ]
  },
  {
   "cell_type": "code",
   "execution_count": 17,
   "id": "158ca2cf",
   "metadata": {},
   "outputs": [
    {
     "data": {
      "text/plain": [
       "'shiryani'"
      ]
     },
     "execution_count": 17,
     "metadata": {},
     "output_type": "execute_result"
    }
   ],
   "source": [
    "food.replace(\"b\" , \"sh\")"
   ]
  },
  {
   "cell_type": "code",
   "execution_count": 18,
   "id": "f12c4c1e",
   "metadata": {},
   "outputs": [
    {
     "data": {
      "text/plain": [
       "'arbaz'"
      ]
     },
     "execution_count": 18,
     "metadata": {},
     "output_type": "execute_result"
    }
   ],
   "source": [
    "#counting a specific alphabet in a string\n",
    "name = \"arbaz\"\n",
    "name"
   ]
  },
  {
   "cell_type": "code",
   "execution_count": 19,
   "id": "31c2412f",
   "metadata": {},
   "outputs": [
    {
     "data": {
      "text/plain": [
       "2"
      ]
     },
     "execution_count": 19,
     "metadata": {},
     "output_type": "execute_result"
    }
   ],
   "source": [
    "name.count(\"a\")"
   ]
  },
  {
   "cell_type": "code",
   "execution_count": 21,
   "id": "07903fa2",
   "metadata": {},
   "outputs": [
    {
     "data": {
      "text/plain": [
       "'arbaz'"
      ]
     },
     "execution_count": 21,
     "metadata": {},
     "output_type": "execute_result"
    }
   ],
   "source": [
    "# finding an index number in string\n",
    "name= \"arbaz\"\n",
    "name"
   ]
  },
  {
   "cell_type": "code",
   "execution_count": 25,
   "id": "b18bd4d3",
   "metadata": {},
   "outputs": [
    {
     "data": {
      "text/plain": [
       "0"
      ]
     },
     "execution_count": 25,
     "metadata": {},
     "output_type": "execute_result"
    }
   ],
   "source": [
    "name.find(\"a\")\n"
   ]
  },
  {
   "cell_type": "code",
   "execution_count": 27,
   "id": "d498ae60",
   "metadata": {},
   "outputs": [
    {
     "data": {
      "text/plain": [
       "'i love samosa, pakora, biryani and raita'"
      ]
     },
     "execution_count": 27,
     "metadata": {},
     "output_type": "execute_result"
    }
   ],
   "source": [
    "# how to split a string\n",
    "food= \"i love samosa, pakora, biryani and raita\"\n",
    "food"
   ]
  },
  {
   "cell_type": "code",
   "execution_count": 29,
   "id": "40dda5b2",
   "metadata": {},
   "outputs": [
    {
     "data": {
      "text/plain": [
       "['i love samosa', ' pakora', ' biryani and raita']"
      ]
     },
     "execution_count": 29,
     "metadata": {},
     "output_type": "execute_result"
    }
   ],
   "source": [
    "food.split(\",\")"
   ]
  },
  {
   "cell_type": "markdown",
   "id": "f114e460",
   "metadata": {},
   "source": [
    "# basic data structure in python\n",
    "1- Tuple\n",
    "2- list\n",
    "3- dictionries\n",
    "4- set"
   ]
  },
  {
   "cell_type": "markdown",
   "id": "06d9d105",
   "metadata": {},
   "source": [
    "## 1- tuple\n",
    "\n",
    "- order collection of elements\n",
    "- enclosed in paranthesis (), small brackets\n",
    "- different kind of elements can be stored\n",
    "- once elements are stored you can not change them"
   ]
  },
  {
   "cell_type": "code",
   "execution_count": 33,
   "id": "bc560321",
   "metadata": {},
   "outputs": [
    {
     "data": {
      "text/plain": [
       "(1, 'python', True, 2.5)"
      ]
     },
     "execution_count": 33,
     "metadata": {},
     "output_type": "execute_result"
    }
   ],
   "source": [
    "tup1 = (1, \"python\" ,True, 2.5)\n",
    "tup1"
   ]
  },
  {
   "cell_type": "code",
   "execution_count": 34,
   "id": "d18683d6",
   "metadata": {},
   "outputs": [
    {
     "data": {
      "text/plain": [
       "tuple"
      ]
     },
     "execution_count": 34,
     "metadata": {},
     "output_type": "execute_result"
    }
   ],
   "source": [
    "#type of a tuple\n",
    "type(tup1)"
   ]
  },
  {
   "cell_type": "markdown",
   "id": "6d1c9c44",
   "metadata": {},
   "source": [
    "### indexing in tuple"
   ]
  },
  {
   "cell_type": "code",
   "execution_count": 38,
   "id": "472166fc",
   "metadata": {},
   "outputs": [
    {
     "data": {
      "text/plain": [
       "'python'"
      ]
     },
     "execution_count": 38,
     "metadata": {},
     "output_type": "execute_result"
    }
   ],
   "source": [
    "tup1 [1]"
   ]
  },
  {
   "cell_type": "code",
   "execution_count": 39,
   "id": "81e281a0",
   "metadata": {},
   "outputs": [
    {
     "data": {
      "text/plain": [
       "1"
      ]
     },
     "execution_count": 39,
     "metadata": {},
     "output_type": "execute_result"
    }
   ],
   "source": [
    "tup1[0]"
   ]
  },
  {
   "cell_type": "code",
   "execution_count": 40,
   "id": "60908498",
   "metadata": {},
   "outputs": [
    {
     "data": {
      "text/plain": [
       "2.5"
      ]
     },
     "execution_count": 40,
     "metadata": {},
     "output_type": "execute_result"
    }
   ],
   "source": [
    "tup1[3]"
   ]
  },
  {
   "cell_type": "code",
   "execution_count": 41,
   "id": "fb35f3b4",
   "metadata": {},
   "outputs": [
    {
     "data": {
      "text/plain": [
       "True"
      ]
     },
     "execution_count": 41,
     "metadata": {},
     "output_type": "execute_result"
    }
   ],
   "source": [
    "tup1[2]"
   ]
  },
  {
   "cell_type": "code",
   "execution_count": 42,
   "id": "7e63282e",
   "metadata": {},
   "outputs": [
    {
     "data": {
      "text/plain": [
       "(1, 'python', True, 2.5)"
      ]
     },
     "execution_count": 42,
     "metadata": {},
     "output_type": "execute_result"
    }
   ],
   "source": [
    "tup1[0:4]"
   ]
  },
  {
   "cell_type": "code",
   "execution_count": 43,
   "id": "c40347cb",
   "metadata": {},
   "outputs": [
    {
     "data": {
      "text/plain": [
       "4"
      ]
     },
     "execution_count": 43,
     "metadata": {},
     "output_type": "execute_result"
    }
   ],
   "source": [
    "len(tup1)"
   ]
  },
  {
   "cell_type": "code",
   "execution_count": 45,
   "id": "bfaa7234",
   "metadata": {},
   "outputs": [
    {
     "data": {
      "text/plain": [
       "(2, 'book', 3.5, False)"
      ]
     },
     "execution_count": 45,
     "metadata": {},
     "output_type": "execute_result"
    }
   ],
   "source": [
    "tup2=(2, \"book\", 3.5, False)\n",
    "tup2"
   ]
  },
  {
   "cell_type": "code",
   "execution_count": 46,
   "id": "9d9f4bd2",
   "metadata": {},
   "outputs": [
    {
     "data": {
      "text/plain": [
       "(1, 'python', True, 2.5, 2, 'book', 3.5, False)"
      ]
     },
     "execution_count": 46,
     "metadata": {},
     "output_type": "execute_result"
    }
   ],
   "source": [
    "#concatinate (to add two tuple or <2)\n",
    "tup1 + tup2"
   ]
  },
  {
   "cell_type": "code",
   "execution_count": 47,
   "id": "b7527a25",
   "metadata": {},
   "outputs": [
    {
     "data": {
      "text/plain": [
       "(1, 'python', True, 2.5, 1, 'python', True, 2.5, 2, 'book', 3.5, False)"
      ]
     },
     "execution_count": 47,
     "metadata": {},
     "output_type": "execute_result"
    }
   ],
   "source": [
    "#concatinate   plus repeat \n",
    "tup1*2+tup2"
   ]
  },
  {
   "cell_type": "code",
   "execution_count": 99,
   "id": "a5664817",
   "metadata": {},
   "outputs": [
    {
     "data": {
      "text/plain": [
       "(20, 50, 30, 20, 60, 79, 70)"
      ]
     },
     "execution_count": 99,
     "metadata": {},
     "output_type": "execute_result"
    }
   ],
   "source": [
    "tup3=(20,50,30,20,60,79,70)\n",
    "tup3"
   ]
  },
  {
   "cell_type": "code",
   "execution_count": 51,
   "id": "f5ca457e",
   "metadata": {},
   "outputs": [
    {
     "data": {
      "text/plain": [
       "20"
      ]
     },
     "execution_count": 51,
     "metadata": {},
     "output_type": "execute_result"
    }
   ],
   "source": [
    "min(tup3)"
   ]
  },
  {
   "cell_type": "code",
   "execution_count": 52,
   "id": "6eacb57f",
   "metadata": {
    "scrolled": true
   },
   "outputs": [
    {
     "data": {
      "text/plain": [
       "79"
      ]
     },
     "execution_count": 52,
     "metadata": {},
     "output_type": "execute_result"
    }
   ],
   "source": [
    "max(tup3)"
   ]
  },
  {
   "cell_type": "code",
   "execution_count": 101,
   "id": "f3dd2e85",
   "metadata": {
    "scrolled": true
   },
   "outputs": [
    {
     "data": {
      "text/plain": [
       "2"
      ]
     },
     "execution_count": 101,
     "metadata": {},
     "output_type": "execute_result"
    }
   ],
   "source": [
    "tup3.count(20)"
   ]
  },
  {
   "cell_type": "code",
   "execution_count": 104,
   "id": "5428a980",
   "metadata": {},
   "outputs": [
    {
     "data": {
      "text/plain": [
       "4"
      ]
     },
     "execution_count": 104,
     "metadata": {},
     "output_type": "execute_result"
    }
   ],
   "source": [
    "tup3.index(60)"
   ]
  },
  {
   "cell_type": "markdown",
   "id": "1d7047e4",
   "metadata": {},
   "source": [
    "## 2- list\n",
    "-ordered collection of elements\n",
    "\n",
    "-enclosed in [] (square bracket)\n",
    "\n",
    "-mutateable(you can change the value)\n"
   ]
  },
  {
   "cell_type": "code",
   "execution_count": 55,
   "id": "a1b2d0e2",
   "metadata": {},
   "outputs": [
    {
     "data": {
      "text/plain": [
       "[2, 'arbaz', False]"
      ]
     },
     "execution_count": 55,
     "metadata": {},
     "output_type": "execute_result"
    }
   ],
   "source": [
    "list1 = [2, \"arbaz\", False]\n",
    "list1"
   ]
  },
  {
   "cell_type": "code",
   "execution_count": 56,
   "id": "874c00fd",
   "metadata": {},
   "outputs": [
    {
     "data": {
      "text/plain": [
       "list"
      ]
     },
     "execution_count": 56,
     "metadata": {},
     "output_type": "execute_result"
    }
   ],
   "source": [
    "type(list1)"
   ]
  },
  {
   "cell_type": "code",
   "execution_count": 57,
   "id": "85e8fcd1",
   "metadata": {},
   "outputs": [
    {
     "data": {
      "text/plain": [
       "3"
      ]
     },
     "execution_count": 57,
     "metadata": {},
     "output_type": "execute_result"
    }
   ],
   "source": [
    "len(list1)"
   ]
  },
  {
   "cell_type": "code",
   "execution_count": 58,
   "id": "b0269d69",
   "metadata": {},
   "outputs": [
    {
     "data": {
      "text/plain": [
       "False"
      ]
     },
     "execution_count": 58,
     "metadata": {},
     "output_type": "execute_result"
    }
   ],
   "source": [
    "list1[2]"
   ]
  },
  {
   "cell_type": "code",
   "execution_count": 60,
   "id": "b9e8758a",
   "metadata": {},
   "outputs": [
    {
     "data": {
      "text/plain": [
       "[3, 5, 'arbaz', 'codanics', 478, 53.2, False]"
      ]
     },
     "execution_count": 60,
     "metadata": {},
     "output_type": "execute_result"
    }
   ],
   "source": [
    "list2=[3, 5 , \"arbaz\",\"codanics\", 478,53.2,False]\n",
    "list2"
   ]
  },
  {
   "cell_type": "code",
   "execution_count": 61,
   "id": "a2ca2e1f",
   "metadata": {
    "scrolled": true
   },
   "outputs": [
    {
     "data": {
      "text/plain": [
       "[2, 'arbaz', False, 3, 5, 'arbaz', 'codanics', 478, 53.2, False]"
      ]
     },
     "execution_count": 61,
     "metadata": {},
     "output_type": "execute_result"
    }
   ],
   "source": [
    "list1+list2"
   ]
  },
  {
   "cell_type": "code",
   "execution_count": 64,
   "id": "c3edaf10",
   "metadata": {},
   "outputs": [
    {
     "data": {
      "text/plain": [
       "[False, 'arbaz', 2]"
      ]
     },
     "execution_count": 64,
     "metadata": {},
     "output_type": "execute_result"
    }
   ],
   "source": [
    "list1.reverse()\n",
    "list1"
   ]
  },
  {
   "cell_type": "code",
   "execution_count": 66,
   "id": "86941327",
   "metadata": {},
   "outputs": [
    {
     "data": {
      "text/plain": [
       "[False, 'arbaz', 2, 'youtube channel']"
      ]
     },
     "execution_count": 66,
     "metadata": {},
     "output_type": "execute_result"
    }
   ],
   "source": [
    "list1.append(\"youtube channel\")\n",
    "list1"
   ]
  },
  {
   "cell_type": "code",
   "execution_count": 67,
   "id": "9b84176d",
   "metadata": {},
   "outputs": [
    {
     "data": {
      "text/plain": [
       "[20, 30, 35, 50, 60, 70, 85, 90]"
      ]
     },
     "execution_count": 67,
     "metadata": {},
     "output_type": "execute_result"
    }
   ],
   "source": [
    "list3=[20,30,35,50,60,70,85,90]\n",
    "list3"
   ]
  },
  {
   "cell_type": "code",
   "execution_count": 71,
   "id": "c1e75bab",
   "metadata": {},
   "outputs": [
    {
     "data": {
      "text/plain": [
       "8"
      ]
     },
     "execution_count": 71,
     "metadata": {},
     "output_type": "execute_result"
    }
   ],
   "source": [
    "len(list3)"
   ]
  },
  {
   "cell_type": "code",
   "execution_count": 73,
   "id": "fc9e8a34",
   "metadata": {},
   "outputs": [
    {
     "data": {
      "text/plain": [
       "[20, 30, 35, 50, 60, 70, 85, 90]"
      ]
     },
     "execution_count": 73,
     "metadata": {},
     "output_type": "execute_result"
    }
   ],
   "source": [
    "#sorting a list\n",
    "list3.sort()\n",
    "list3"
   ]
  },
  {
   "cell_type": "code",
   "execution_count": 105,
   "id": "97e18e62",
   "metadata": {},
   "outputs": [
    {
     "data": {
      "text/plain": [
       "[False, 'arbaz', 2, 'youtube channel', False, 'arbaz', 2, 'youtube channel']"
      ]
     },
     "execution_count": 105,
     "metadata": {},
     "output_type": "execute_result"
    }
   ],
   "source": [
    "list1*2"
   ]
  },
  {
   "cell_type": "code",
   "execution_count": 116,
   "id": "d6b97e8c",
   "metadata": {},
   "outputs": [
    {
     "data": {
      "text/plain": [
       "[3, 5, 'arbaz', 'codanics', 478, 53.2, False]"
      ]
     },
     "execution_count": 116,
     "metadata": {},
     "output_type": "execute_result"
    }
   ],
   "source": [
    "list4=list2.copy()\n",
    "list4"
   ]
  },
  {
   "cell_type": "code",
   "execution_count": null,
   "id": "96c5231f",
   "metadata": {},
   "outputs": [],
   "source": [
    "list4.extend"
   ]
  },
  {
   "cell_type": "markdown",
   "id": "88ec7c77",
   "metadata": {},
   "source": [
    "## 3-dictionries\n",
    "\n",
    "-unordered collection of elements \n",
    "\n",
    "-key and value\n",
    "\n",
    "-curly brackets {}\n",
    "\n",
    "-mutateable or values can be changed"
   ]
  },
  {
   "cell_type": "code",
   "execution_count": 81,
   "id": "ef07659f",
   "metadata": {},
   "outputs": [
    {
     "data": {
      "text/plain": [
       "{'samosa': 30, 'pakora': 100, 'raita': 20, 'salad': 30, 'chiken roll': 25}"
      ]
     },
     "execution_count": 81,
     "metadata": {},
     "output_type": "execute_result"
    }
   ],
   "source": [
    "#food and their prices\n",
    "food1 = {\"samosa\" : 30, \"pakora\" : 100 , \"raita\":20 , \"salad\":30,\"chiken roll\": 25}\n",
    "food1"
   ]
  },
  {
   "cell_type": "code",
   "execution_count": 82,
   "id": "69c8cee9",
   "metadata": {},
   "outputs": [
    {
     "data": {
      "text/plain": [
       "dict"
      ]
     },
     "execution_count": 82,
     "metadata": {},
     "output_type": "execute_result"
    }
   ],
   "source": [
    "type(food1)"
   ]
  },
  {
   "cell_type": "code",
   "execution_count": 83,
   "id": "2fdf6688",
   "metadata": {},
   "outputs": [
    {
     "data": {
      "text/plain": [
       "dict_keys(['samosa', 'pakora', 'raita', 'salad', 'chiken roll'])"
      ]
     },
     "execution_count": 83,
     "metadata": {},
     "output_type": "execute_result"
    }
   ],
   "source": [
    "#exract data\n",
    "\n",
    "keys1=food1.keys()\n",
    "keys1"
   ]
  },
  {
   "cell_type": "code",
   "execution_count": 85,
   "id": "67f323aa",
   "metadata": {},
   "outputs": [
    {
     "data": {
      "text/plain": [
       "dict_values([30, 100, 20, 30, 25])"
      ]
     },
     "execution_count": 85,
     "metadata": {},
     "output_type": "execute_result"
    }
   ],
   "source": [
    "values1= food1.values()\n",
    "values1"
   ]
  },
  {
   "cell_type": "code",
   "execution_count": 87,
   "id": "e832c420",
   "metadata": {},
   "outputs": [
    {
     "data": {
      "text/plain": [
       "{'samosa': 30,\n",
       " 'pakora': 100,\n",
       " 'raita': 20,\n",
       " 'salad': 30,\n",
       " 'chiken roll': 25,\n",
       " 'tikki': 20}"
      ]
     },
     "execution_count": 87,
     "metadata": {},
     "output_type": "execute_result"
    }
   ],
   "source": [
    "#adding new element\n",
    "food1[\"tikki\"]= 20\n",
    "food1"
   ]
  },
  {
   "cell_type": "code",
   "execution_count": 88,
   "id": "a1e2643e",
   "metadata": {},
   "outputs": [
    {
     "data": {
      "text/plain": [
       "{'dates': 30, 'choclate': 40, 'sawaiyan': 80}"
      ]
     },
     "execution_count": 88,
     "metadata": {},
     "output_type": "execute_result"
    }
   ],
   "source": [
    "food2 = {\"dates\":30,\"choclate\":40,\"sawaiyan\":80}\n",
    "food2"
   ]
  },
  {
   "cell_type": "code",
   "execution_count": 90,
   "id": "1086a6d6",
   "metadata": {
    "scrolled": true
   },
   "outputs": [
    {
     "data": {
      "text/plain": [
       "{'samosa': 30,\n",
       " 'pakora': 100,\n",
       " 'raita': 20,\n",
       " 'salad': 30,\n",
       " 'chiken roll': 25,\n",
       " 'tikki': 20,\n",
       " 'dates': 30,\n",
       " 'choclate': 40,\n",
       " 'sawaiyan': 80}"
      ]
     },
     "execution_count": 90,
     "metadata": {},
     "output_type": "execute_result"
    }
   ],
   "source": [
    "#concatinate\n",
    "food1.update(food2)\n",
    "food1"
   ]
  },
  {
   "cell_type": "markdown",
   "id": "5c1d2f1e",
   "metadata": {},
   "source": [
    "## Set\n",
    "\n",
    "- unordered and unindexed\n",
    "- curly brackets used\n",
    "- no duplicates allowed"
   ]
  },
  {
   "cell_type": "code",
   "execution_count": 91,
   "id": "c5b63fe9",
   "metadata": {},
   "outputs": [
    {
     "data": {
      "text/plain": [
       "{2, 3.5, 6, True, 'arbaz', 'codanics', 'faisalabad'}"
      ]
     },
     "execution_count": 91,
     "metadata": {},
     "output_type": "execute_result"
    }
   ],
   "source": [
    "s1={2, 3.5, 6,\"arbaz\",\"codanics\",\"faisalabad\", True}\n",
    "s1"
   ]
  },
  {
   "cell_type": "code",
   "execution_count": 94,
   "id": "d73d85be",
   "metadata": {},
   "outputs": [
    {
     "data": {
      "text/plain": [
       "{2, 3.5, 6, True, 'arbaz', 'arbaz1', 'codanics', 'faisalabad'}"
      ]
     },
     "execution_count": 94,
     "metadata": {},
     "output_type": "execute_result"
    }
   ],
   "source": [
    "s1.add(\"arbaz1\")\n",
    "s1"
   ]
  },
  {
   "cell_type": "code",
   "execution_count": 96,
   "id": "2037ceb1",
   "metadata": {},
   "outputs": [
    {
     "data": {
      "text/plain": [
       "{2, 3.5, 6, True, 'arbaz', 'codanics', 'faisalabad'}"
      ]
     },
     "execution_count": 96,
     "metadata": {},
     "output_type": "execute_result"
    }
   ],
   "source": [
    "s1.remove(\"arbaz1\")\n",
    "s1"
   ]
  }
 ],
 "metadata": {
  "kernelspec": {
   "display_name": "Python 3 (ipykernel)",
   "language": "python",
   "name": "python3"
  },
  "language_info": {
   "codemirror_mode": {
    "name": "ipython",
    "version": 3
   },
   "file_extension": ".py",
   "mimetype": "text/x-python",
   "name": "python",
   "nbconvert_exporter": "python",
   "pygments_lexer": "ipython3",
   "version": "3.9.12"
  }
 },
 "nbformat": 4,
 "nbformat_minor": 5
}
