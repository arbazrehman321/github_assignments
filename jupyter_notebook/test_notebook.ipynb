{
 "cells": [
  {
   "cell_type": "markdown",
   "id": "36c56dee",
   "metadata": {},
   "source": [
    "# python videos\n",
    "## how to use jupyter notebook\n",
    "### basics of python\n",
    "\n",
    "**1- my first program**\n"
   ]
  },
  {
   "cell_type": "code",
   "execution_count": 7,
   "id": "3570e846",
   "metadata": {},
   "outputs": [
    {
     "name": "stdout",
     "output_type": "stream",
     "text": [
      "5\n",
      "hello world\n"
     ]
    }
   ],
   "source": [
    "#my_first_program_in_python\n",
    "print(2+3)\n",
    "print(\"hello world\")"
   ]
  },
  {
   "cell_type": "markdown",
   "id": "2ce90021",
   "metadata": {},
   "source": [
    "**2- operators**"
   ]
  },
  {
   "cell_type": "code",
   "execution_count": 5,
   "id": "442e8293",
   "metadata": {},
   "outputs": [
    {
     "name": "stdout",
     "output_type": "stream",
     "text": [
      "24\n",
      "6\n",
      "2.0\n",
      "6.5\n"
     ]
    }
   ],
   "source": [
    "print(3*8)\n",
    "print(2+4)\n",
    "print(6/3)\n",
    "\n",
    "print(3**2/2*3/3+6-4)\n",
    "\n",
    "pemdas"
   ]
  },
  {
   "cell_type": "markdown",
   "id": "771ac10a",
   "metadata": {},
   "source": [
    "**3- strings**"
   ]
  },
  {
   "cell_type": "markdown",
   "id": "6faf980b",
   "metadata": {},
   "source": [
    "#### print('test for single quotes')\n",
    "#### print(\"test for doble quotes\")\n",
    "#### print('''test for tripple quotes''')"
   ]
  },
  {
   "cell_type": "code",
   "execution_count": 8,
   "id": "faa3118c",
   "metadata": {},
   "outputs": [
    {
     "name": "stdout",
     "output_type": "stream",
     "text": [
      "what's up\n"
     ]
    }
   ],
   "source": [
    "print(\"what's up\")"
   ]
  },
  {
   "cell_type": "markdown",
   "id": "715c2b03",
   "metadata": {},
   "source": [
    "**4- comments**"
   ]
  },
  {
   "cell_type": "markdown",
   "id": "06223d92",
   "metadata": {},
   "source": [
    "##### Ctrl+/ use to comment out"
   ]
  },
  {
   "cell_type": "code",
   "execution_count": 10,
   "id": "4e976fee",
   "metadata": {},
   "outputs": [
    {
     "name": "stdout",
     "output_type": "stream",
     "text": [
      "where are you?\n",
      "we ar learninng python\n"
     ]
    }
   ],
   "source": [
    "print(\"where are you?\")   \n",
    "print(\"we ar learninng python\")"
   ]
  },
  {
   "cell_type": "markdown",
   "id": "b1819a94",
   "metadata": {},
   "source": [
    "**4- variables**"
   ]
  },
  {
   "cell_type": "code",
   "execution_count": 11,
   "id": "1ffdac80",
   "metadata": {},
   "outputs": [
    {
     "name": "stdout",
     "output_type": "stream",
     "text": [
      "5\n",
      "we are learning python\n",
      "15\n",
      "<class 'int'>\n"
     ]
    }
   ],
   "source": [
    "#objects conating specific varibales\n",
    "x = 5\n",
    "print(x)\n",
    "\n",
    "y=\"we are learning python\"\n",
    "\n",
    "print(y)\n",
    "\n",
    "x=15\n",
    "print(x)\n",
    "\n",
    "#types of varibles\n",
    "\n",
    "type(x)\n",
    "print(type(x))"
   ]
  },
  {
   "cell_type": "markdown",
   "id": "fcc54388",
   "metadata": {},
   "source": [
    "**5- input variable**"
   ]
  },
  {
   "cell_type": "code",
   "execution_count": null,
   "id": "16555f3d",
   "metadata": {},
   "outputs": [],
   "source": [
    "fruit_basket=\"mangoes\"\n",
    "print(fruit_basket)\n",
    "#input function\n",
    "fruit_basket=input(\"what is your fav fruit\")\n",
    "print(fruit_basket)\n",
    "\n",
    "#input function of 2nd stage\n",
    "\n",
    "name=input(\"what is your name\")\n",
    "greetings=(\"hello\")\n",
    "print(\"greetings, name\")"
   ]
  }
 ],
 "metadata": {
  "kernelspec": {
   "display_name": "Python 3 (ipykernel)",
   "language": "python",
   "name": "python3"
  },
  "language_info": {
   "codemirror_mode": {
    "name": "ipython",
    "version": 3
   },
   "file_extension": ".py",
   "mimetype": "text/x-python",
   "name": "python",
   "nbconvert_exporter": "python",
   "pygments_lexer": "ipython3",
   "version": "3.9.12"
  }
 },
 "nbformat": 4,
 "nbformat_minor": 5
}
